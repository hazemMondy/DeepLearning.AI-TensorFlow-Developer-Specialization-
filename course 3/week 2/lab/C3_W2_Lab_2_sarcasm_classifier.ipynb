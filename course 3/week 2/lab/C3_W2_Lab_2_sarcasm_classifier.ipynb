{
  "cells": [
    {
      "cell_type": "markdown",
      "metadata": {
        "colab_type": "text",
        "id": "view-in-github"
      },
      "source": [
        "<a href=\"https://colab.research.google.com/github/https-deeplearning-ai/tensorflow-1-public/blob/20_sep_2021_fixes/C3/W2/ungraded_labs/C3_W2_Lab_2_sarcasm_classifier.ipynb\" target=\"_parent\"><img src=\"https://colab.research.google.com/assets/colab-badge.svg\" alt=\"Open In Colab\"/></a>"
      ]
    },
    {
      "cell_type": "code",
      "execution_count": 1,
      "metadata": {
        "id": "XYYDvoskkE61"
      },
      "outputs": [],
      "source": [
        "import json\n",
        "import tensorflow as tf\n",
        "\n",
        "from tensorflow.keras.preprocessing.text import Tokenizer\n",
        "from tensorflow.keras.preprocessing.sequence import pad_sequences"
      ]
    },
    {
      "cell_type": "code",
      "execution_count": 3,
      "metadata": {},
      "outputs": [],
      "source": [
        "import numpy as np\n",
        "import matplotlib.pyplot as plt"
      ]
    },
    {
      "cell_type": "code",
      "execution_count": 2,
      "metadata": {
        "id": "0eJSTTYnkJQd"
      },
      "outputs": [],
      "source": [
        "vocab_size = 10000\n",
        "embedding_dim = 16\n",
        "max_length = 100\n",
        "trunc_type='post'\n",
        "padding_type='post'\n",
        "oov_tok = \"<OOV>\"\n",
        "training_size = 20000\n"
      ]
    },
    {
      "cell_type": "code",
      "execution_count": null,
      "metadata": {
        "id": "BQVuQrZNkPn9"
      },
      "outputs": [],
      "source": [
        "# sarcasm.json\n",
        "!gdown --id 1xRU3xY5-tkiPGvlz5xBJ18_pHWSRzI4v"
      ]
    },
    {
      "cell_type": "code",
      "execution_count": 2,
      "metadata": {
        "id": "oaLaaqhNkUPd"
      },
      "outputs": [],
      "source": [
        "with open(\"./sarcasm.json\", 'r') as f:\n",
        "    datastore = json.load(f)\n",
        "\n",
        "sentences = []\n",
        "labels = []\n",
        "\n",
        "for item in datastore:\n",
        "    sentences.append(item['headline'])\n",
        "    labels.append(item['is_sarcastic'])"
      ]
    },
    {
      "cell_type": "code",
      "execution_count": 4,
      "metadata": {
        "id": "S1sD-7v0kYWk"
      },
      "outputs": [],
      "source": [
        "training_sentences = sentences[0:training_size]\n",
        "testing_sentences = sentences[training_size:]\n",
        "training_labels = labels[0:training_size]\n",
        "testing_labels = labels[training_size:]"
      ]
    },
    {
      "cell_type": "code",
      "execution_count": 5,
      "metadata": {
        "id": "3u8UB0MCkZ5N"
      },
      "outputs": [],
      "source": [
        "tokenizer = Tokenizer(num_words=vocab_size, oov_token=oov_tok)\n",
        "tokenizer.fit_on_texts(training_sentences)\n",
        "\n",
        "word_index = tokenizer.word_index\n",
        "\n",
        "training_sequences = tokenizer.texts_to_sequences(training_sentences)\n",
        "training_padded = pad_sequences(training_sequences, maxlen=max_length, padding=padding_type, truncating=trunc_type)\n",
        "\n",
        "testing_sequences = tokenizer.texts_to_sequences(testing_sentences)\n",
        "testing_padded = pad_sequences(testing_sequences, maxlen=max_length, padding=padding_type, truncating=trunc_type)"
      ]
    },
    {
      "cell_type": "code",
      "execution_count": 6,
      "metadata": {
        "id": "GrAlWBKf99Ya"
      },
      "outputs": [],
      "source": [
        "# Need this block to get it to work with TensorFlow 2.x\n",
        "training_padded = np.array(training_padded)\n",
        "training_labels = np.array(training_labels)\n",
        "testing_padded = np.array(testing_padded)\n",
        "testing_labels = np.array(testing_labels)"
      ]
    },
    {
      "cell_type": "markdown",
      "metadata": {},
      "source": [
        "# Build and Compile the Model\n",
        "\n",
        "GlobalAveragePooling1D layer instead of Flatten after the Embedding. This adds the task of averaging over the sequence dimension before connecting to the dense layers. See a short demo of how this works using the snippet below. Notice that it gets the average over 3 arrays (i.e. (10 + 1 + 1) / 3 and (2 + 3 + 1) / 3 to arrive at the final output.\n"
      ]
    },
    {
      "cell_type": "code",
      "execution_count": 14,
      "metadata": {},
      "outputs": [
        {
          "name": "stdout",
          "output_type": "stream",
          "text": [
            "shape of sample_array = (1, 3, 2)\n",
            "sample array: [[[10  2]\n",
            "  [ 1  3]\n",
            "  [ 1  1]]]\n",
            "output shape of gap1d_layer: (1, 2)\n",
            "output array of gap1d_layer: [[4 2]]\n"
          ]
        }
      ],
      "source": [
        "import tensorflow as tf\n",
        "\n",
        "# Initialize a GlobalAveragePooling1D (GAP1D) layer\n",
        "gap1d_layer = tf.keras.layers.GlobalAveragePooling1D()\n",
        "\n",
        "# Define sample array\n",
        "sample_array = np.array([[[10,2],[1,3],[1,1]]])\n",
        "\n",
        "# Print shape and contents of sample array\n",
        "print(f'shape of sample_array = {sample_array.shape}')\n",
        "print(f'sample array: {sample_array}')\n",
        "\n",
        "# Pass the sample array to the GAP1D layer\n",
        "output = gap1d_layer(sample_array)\n",
        "\n",
        "# Print shape and contents of the GAP1D output array\n",
        "print(f'output shape of gap1d_layer: {output.shape}')\n",
        "print(f'output array of gap1d_layer: {output.numpy()}')"
      ]
    },
    {
      "cell_type": "markdown",
      "metadata": {},
      "source": [
        "This added computation reduces the dimensionality of the model as compared to using Flatten() and thus, the number of training parameters will also decrease. See the output of model.summary() below and see how it compares if you swap out the pooling layer with a simple Flatten()"
      ]
    },
    {
      "cell_type": "code",
      "execution_count": 7,
      "metadata": {
        "id": "FufaT4vlkiDE"
      },
      "outputs": [],
      "source": [
        "model = tf.keras.Sequential([\n",
        "    tf.keras.layers.Embedding(vocab_size, embedding_dim, input_length=max_length),\n",
        "    tf.keras.layers.GlobalAveragePooling1D(),\n",
        "    tf.keras.layers.Dense(24, activation='relu'),\n",
        "    tf.keras.layers.Dense(1, activation='sigmoid')\n",
        "])\n",
        "model.compile(loss='binary_crossentropy',optimizer='adam',metrics=['accuracy'])"
      ]
    },
    {
      "cell_type": "code",
      "execution_count": 8,
      "metadata": {
        "id": "XfDt1hmYkiys"
      },
      "outputs": [
        {
          "name": "stdout",
          "output_type": "stream",
          "text": [
            "Model: \"sequential\"\n",
            "_________________________________________________________________\n",
            "Layer (type)                 Output Shape              Param #   \n",
            "=================================================================\n",
            "embedding (Embedding)        (None, 100, 16)           160000    \n",
            "_________________________________________________________________\n",
            "global_average_pooling1d (Gl (None, 16)                0         \n",
            "_________________________________________________________________\n",
            "dense (Dense)                (None, 24)                408       \n",
            "_________________________________________________________________\n",
            "dense_1 (Dense)              (None, 1)                 25        \n",
            "=================================================================\n",
            "Total params: 160,433\n",
            "Trainable params: 160,433\n",
            "Non-trainable params: 0\n",
            "_________________________________________________________________\n"
          ]
        }
      ],
      "source": [
        "model.summary()\n"
      ]
    },
    {
      "cell_type": "code",
      "execution_count": 9,
      "metadata": {
        "id": "2DTKQFf1kkyc"
      },
      "outputs": [
        {
          "name": "stdout",
          "output_type": "stream",
          "text": [
            "Epoch 1/30\n",
            "625/625 - 1s - loss: 0.6687 - accuracy: 0.5757 - val_loss: 0.6016 - val_accuracy: 0.6706\n",
            "Epoch 2/30\n",
            "625/625 - 1s - loss: 0.4625 - accuracy: 0.8192 - val_loss: 0.3997 - val_accuracy: 0.8343\n",
            "Epoch 3/30\n",
            "625/625 - 1s - loss: 0.3294 - accuracy: 0.8711 - val_loss: 0.3654 - val_accuracy: 0.8426\n",
            "Epoch 4/30\n",
            "625/625 - 1s - loss: 0.2753 - accuracy: 0.8923 - val_loss: 0.3502 - val_accuracy: 0.8487\n",
            "Epoch 5/30\n",
            "625/625 - 1s - loss: 0.2386 - accuracy: 0.9089 - val_loss: 0.3530 - val_accuracy: 0.8501\n",
            "Epoch 6/30\n",
            "625/625 - 1s - loss: 0.2102 - accuracy: 0.9202 - val_loss: 0.3632 - val_accuracy: 0.8457\n",
            "Epoch 7/30\n",
            "625/625 - 1s - loss: 0.1889 - accuracy: 0.9302 - val_loss: 0.3514 - val_accuracy: 0.8545\n",
            "Epoch 8/30\n",
            "625/625 - 1s - loss: 0.1708 - accuracy: 0.9368 - val_loss: 0.3615 - val_accuracy: 0.8559\n",
            "Epoch 9/30\n",
            "625/625 - 1s - loss: 0.1539 - accuracy: 0.9456 - val_loss: 0.3745 - val_accuracy: 0.8536\n",
            "Epoch 10/30\n",
            "625/625 - 1s - loss: 0.1403 - accuracy: 0.9500 - val_loss: 0.3955 - val_accuracy: 0.8508\n",
            "Epoch 11/30\n",
            "625/625 - 1s - loss: 0.1295 - accuracy: 0.9545 - val_loss: 0.4045 - val_accuracy: 0.8518\n",
            "Epoch 12/30\n",
            "625/625 - 1s - loss: 0.1184 - accuracy: 0.9595 - val_loss: 0.4270 - val_accuracy: 0.8487\n",
            "Epoch 13/30\n",
            "625/625 - 1s - loss: 0.1098 - accuracy: 0.9646 - val_loss: 0.4421 - val_accuracy: 0.8489\n",
            "Epoch 14/30\n",
            "625/625 - 1s - loss: 0.1001 - accuracy: 0.9671 - val_loss: 0.4690 - val_accuracy: 0.8439\n",
            "Epoch 15/30\n",
            "625/625 - 1s - loss: 0.0934 - accuracy: 0.9690 - val_loss: 0.4931 - val_accuracy: 0.8410\n",
            "Epoch 16/30\n",
            "625/625 - 1s - loss: 0.0855 - accuracy: 0.9716 - val_loss: 0.5126 - val_accuracy: 0.8393\n",
            "Epoch 17/30\n",
            "625/625 - 1s - loss: 0.0793 - accuracy: 0.9743 - val_loss: 0.5370 - val_accuracy: 0.8399\n",
            "Epoch 18/30\n",
            "625/625 - 1s - loss: 0.0736 - accuracy: 0.9766 - val_loss: 0.5660 - val_accuracy: 0.8360\n",
            "Epoch 19/30\n",
            "625/625 - 1s - loss: 0.0673 - accuracy: 0.9797 - val_loss: 0.6085 - val_accuracy: 0.8332\n",
            "Epoch 20/30\n",
            "625/625 - 1s - loss: 0.0636 - accuracy: 0.9805 - val_loss: 0.6259 - val_accuracy: 0.8322\n",
            "Epoch 21/30\n",
            "625/625 - 1s - loss: 0.0589 - accuracy: 0.9818 - val_loss: 0.6780 - val_accuracy: 0.8293\n",
            "Epoch 22/30\n",
            "625/625 - 1s - loss: 0.0550 - accuracy: 0.9837 - val_loss: 0.6850 - val_accuracy: 0.8267\n",
            "Epoch 23/30\n",
            "625/625 - 1s - loss: 0.0503 - accuracy: 0.9845 - val_loss: 0.7135 - val_accuracy: 0.8264\n",
            "Epoch 24/30\n",
            "625/625 - 1s - loss: 0.0473 - accuracy: 0.9861 - val_loss: 0.8032 - val_accuracy: 0.8225\n",
            "Epoch 25/30\n",
            "625/625 - 1s - loss: 0.0437 - accuracy: 0.9869 - val_loss: 0.7988 - val_accuracy: 0.8216\n",
            "Epoch 26/30\n",
            "625/625 - 1s - loss: 0.0404 - accuracy: 0.9883 - val_loss: 0.8222 - val_accuracy: 0.8201\n",
            "Epoch 27/30\n",
            "625/625 - 1s - loss: 0.0360 - accuracy: 0.9901 - val_loss: 0.8570 - val_accuracy: 0.8195\n",
            "Epoch 28/30\n",
            "625/625 - 1s - loss: 0.0350 - accuracy: 0.9900 - val_loss: 0.8819 - val_accuracy: 0.8205\n",
            "Epoch 29/30\n",
            "625/625 - 1s - loss: 0.0322 - accuracy: 0.9912 - val_loss: 0.9545 - val_accuracy: 0.8180\n",
            "Epoch 30/30\n",
            "625/625 - 1s - loss: 0.0304 - accuracy: 0.9914 - val_loss: 0.9554 - val_accuracy: 0.8168\n"
          ]
        }
      ],
      "source": [
        "num_epochs = 30\n",
        "history = model.fit(training_padded, training_labels, epochs=num_epochs, validation_data=(testing_padded, testing_labels), verbose=2)"
      ]
    },
    {
      "cell_type": "code",
      "execution_count": 12,
      "metadata": {
        "id": "2HYfBKXjkmU8"
      },
      "outputs": [],
      "source": [
        "\n",
        "def plot_graphs(history, string):\n",
        "  plt.plot(history.history[string])\n",
        "  plt.plot(history.history['val_'+string])\n",
        "  plt.xlabel(\"Epochs\")\n",
        "  plt.ylabel(string)\n",
        "  plt.legend([string, 'val_'+string])\n",
        "  plt.show()\n",
        "  \n",
        "plot_graphs(history, \"accuracy\")\n",
        "plot_graphs(history, \"loss\")"
      ]
    },
    {
      "cell_type": "code",
      "execution_count": 11,
      "metadata": {
        "id": "7SBdAZAenvzL"
      },
      "outputs": [
        {
          "name": "stdout",
          "output_type": "stream",
          "text": [
            "former <OOV> store clerk sues over secret 'black <OOV> for minority shoppers ? ? ? ? ? ? ? ? ? ? ? ? ? ? ? ? ? ? ? ? ? ? ? ? ? ? ? ? ? ? ? ? ? ? ? ? ? ? ? ? ? ? ? ? ? ? ? ? ? ? ? ? ? ? ? ? ? ? ? ? ? ? ? ? ? ? ? ? ? ? ? ? ? ? ? ? ? ? ? ? ? ? ? ? ? ? ? ?\n",
            "mom starting to fear son's web series closest thing she will have to grandchild\n",
            "1\n"
          ]
        }
      ],
      "source": [
        "reverse_word_index = dict([(value, key) for (key, value) in word_index.items()])\n",
        "\n",
        "def decode_sentence(text):\n",
        "    return ' '.join([reverse_word_index.get(i, '?') for i in text])\n",
        "\n",
        "print(decode_sentence(training_padded[0]))\n",
        "print(training_sentences[2])\n",
        "print(labels[2])"
      ]
    },
    {
      "cell_type": "code",
      "execution_count": 12,
      "metadata": {
        "id": "c9MqihtEkzQ9"
      },
      "outputs": [
        {
          "name": "stdout",
          "output_type": "stream",
          "text": [
            "(10000, 16)\n"
          ]
        }
      ],
      "source": [
        "e = model.layers[0]\n",
        "weights = e.get_weights()[0]\n",
        "print(weights.shape) # shape: (vocab_size, embedding_dim)\n"
      ]
    },
    {
      "cell_type": "code",
      "execution_count": 13,
      "metadata": {
        "id": "LoBXVffknldU"
      },
      "outputs": [],
      "source": [
        "import io\n",
        "\n",
        "out_v = io.open('vecs.tsv', 'w', encoding='utf-8')\n",
        "out_m = io.open('meta.tsv', 'w', encoding='utf-8')\n",
        "for word_num in range(1, vocab_size):\n",
        "  word = reverse_word_index[word_num]\n",
        "  embeddings = weights[word_num]\n",
        "  out_m.write(word + \"\\n\")\n",
        "  out_v.write('\\t'.join([str(x) for x in embeddings]) + \"\\n\")\n",
        "out_v.close()\n",
        "out_m.close()"
      ]
    },
    {
      "cell_type": "code",
      "execution_count": null,
      "metadata": {
        "id": "U4eZ5HtVnnEE"
      },
      "outputs": [],
      "source": [
        "try:\n",
        "  from google.colab import files\n",
        "except ImportError:\n",
        "  pass\n",
        "else:\n",
        "  files.download('vecs.tsv')\n",
        "  files.download('meta.tsv')"
      ]
    },
    {
      "cell_type": "code",
      "execution_count": 14,
      "metadata": {
        "id": "cG8-ArY-qDcz"
      },
      "outputs": [
        {
          "name": "stdout",
          "output_type": "stream",
          "text": [
            "[[9.3411231e-01]\n",
            " [3.8510363e-05]]\n"
          ]
        }
      ],
      "source": [
        "sentence = [\"granny starting to fear spiders in the garden might be real\", \"game of thrones season finale showing this sunday night\"]\n",
        "sequences = tokenizer.texts_to_sequences(sentence)\n",
        "padded = pad_sequences(sequences, maxlen=max_length, padding=padding_type, truncating=trunc_type)\n",
        "print(model.predict(padded))"
      ]
    },
    {
      "cell_type": "code",
      "execution_count": null,
      "metadata": {
        "id": "xPFObL3nSM2m"
      },
      "outputs": [],
      "source": []
    },
    {
      "cell_type": "markdown",
      "metadata": {},
      "source": [
        "## hyperparamaters tuning"
      ]
    },
    {
      "cell_type": "code",
      "execution_count": 4,
      "metadata": {},
      "outputs": [],
      "source": [
        "vocab_size = int(10000/10)\n",
        "embedding_dim = 128\n",
        "max_length = 36\n",
        "trunc_type='post'\n",
        "padding_type='post'\n",
        "oov_tok = \"<OOV>\"\n",
        "training_size = 20000+ 1000"
      ]
    },
    {
      "cell_type": "code",
      "execution_count": 5,
      "metadata": {
        "id": "S1sD-7v0kYWk"
      },
      "outputs": [],
      "source": [
        "training_sentences = sentences[0:training_size]\n",
        "testing_sentences = sentences[training_size:]\n",
        "training_labels = labels[0:training_size]\n",
        "testing_labels = labels[training_size:]"
      ]
    },
    {
      "cell_type": "code",
      "execution_count": 6,
      "metadata": {
        "id": "3u8UB0MCkZ5N"
      },
      "outputs": [],
      "source": [
        "tokenizer = Tokenizer(num_words=vocab_size, oov_token=oov_tok)\n",
        "tokenizer.fit_on_texts(training_sentences)\n",
        "\n",
        "word_index = tokenizer.word_index\n",
        "\n",
        "training_sequences = tokenizer.texts_to_sequences(training_sentences)\n",
        "training_padded = pad_sequences(training_sequences, maxlen=max_length, padding=padding_type, truncating=trunc_type)\n",
        "\n",
        "testing_sequences = tokenizer.texts_to_sequences(testing_sentences)\n",
        "testing_padded = pad_sequences(testing_sequences, maxlen=max_length, padding=padding_type, truncating=trunc_type)"
      ]
    },
    {
      "cell_type": "code",
      "execution_count": 7,
      "metadata": {
        "id": "GrAlWBKf99Ya"
      },
      "outputs": [],
      "source": [
        "training_padded = np.array(training_padded)\n",
        "training_labels = np.array(training_labels)\n",
        "testing_padded = np.array(testing_padded)\n",
        "testing_labels = np.array(testing_labels)"
      ]
    },
    {
      "cell_type": "code",
      "execution_count": 8,
      "metadata": {
        "id": "FufaT4vlkiDE"
      },
      "outputs": [],
      "source": [
        "model = tf.keras.Sequential([\n",
        "    tf.keras.layers.Embedding(vocab_size, embedding_dim, input_length=max_length),\n",
        "    tf.keras.layers.GlobalAveragePooling1D(),\n",
        "    tf.keras.layers.Dense(24, activation='relu'),\n",
        "    tf.keras.layers.Dense(1, activation='sigmoid')\n",
        "])\n",
        "model.compile(loss='binary_crossentropy',optimizer='adam',metrics=['accuracy'])"
      ]
    },
    {
      "cell_type": "code",
      "execution_count": 9,
      "metadata": {
        "id": "XfDt1hmYkiys"
      },
      "outputs": [
        {
          "name": "stdout",
          "output_type": "stream",
          "text": [
            "Model: \"sequential\"\n",
            "_________________________________________________________________\n",
            "Layer (type)                 Output Shape              Param #   \n",
            "=================================================================\n",
            "embedding (Embedding)        (None, 36, 128)           128000    \n",
            "_________________________________________________________________\n",
            "global_average_pooling1d (Gl (None, 128)               0         \n",
            "_________________________________________________________________\n",
            "dense (Dense)                (None, 24)                3096      \n",
            "_________________________________________________________________\n",
            "dense_1 (Dense)              (None, 1)                 25        \n",
            "=================================================================\n",
            "Total params: 131,121\n",
            "Trainable params: 131,121\n",
            "Non-trainable params: 0\n",
            "_________________________________________________________________\n"
          ]
        }
      ],
      "source": [
        "model.summary()"
      ]
    },
    {
      "cell_type": "code",
      "execution_count": 10,
      "metadata": {
        "id": "2DTKQFf1kkyc"
      },
      "outputs": [
        {
          "name": "stdout",
          "output_type": "stream",
          "text": [
            "Epoch 1/30\n",
            "657/657 - 1s - loss: 0.5041 - accuracy: 0.7429 - val_loss: 0.4202 - val_accuracy: 0.8047\n",
            "Epoch 2/30\n",
            "657/657 - 1s - loss: 0.3802 - accuracy: 0.8266 - val_loss: 0.3967 - val_accuracy: 0.8173\n",
            "Epoch 3/30\n",
            "657/657 - 1s - loss: 0.3666 - accuracy: 0.8319 - val_loss: 0.4706 - val_accuracy: 0.7763\n",
            "Epoch 4/30\n",
            "657/657 - 1s - loss: 0.3632 - accuracy: 0.8336 - val_loss: 0.3995 - val_accuracy: 0.8175\n",
            "Epoch 5/30\n",
            "657/657 - 1s - loss: 0.3589 - accuracy: 0.8357 - val_loss: 0.4034 - val_accuracy: 0.8164\n",
            "Epoch 6/30\n",
            "657/657 - 1s - loss: 0.3587 - accuracy: 0.8344 - val_loss: 0.3990 - val_accuracy: 0.8177\n",
            "Epoch 7/30\n",
            "657/657 - 1s - loss: 0.3563 - accuracy: 0.8361 - val_loss: 0.4022 - val_accuracy: 0.8159\n",
            "Epoch 8/30\n",
            "657/657 - 1s - loss: 0.3556 - accuracy: 0.8377 - val_loss: 0.4082 - val_accuracy: 0.8136\n",
            "Epoch 9/30\n",
            "657/657 - 1s - loss: 0.3544 - accuracy: 0.8382 - val_loss: 0.4085 - val_accuracy: 0.8105\n",
            "Epoch 10/30\n",
            "657/657 - 1s - loss: 0.3545 - accuracy: 0.8373 - val_loss: 0.4015 - val_accuracy: 0.8121\n",
            "Epoch 11/30\n",
            "657/657 - 1s - loss: 0.3521 - accuracy: 0.8380 - val_loss: 0.4093 - val_accuracy: 0.8096\n",
            "Epoch 12/30\n",
            "657/657 - 1s - loss: 0.3524 - accuracy: 0.8398 - val_loss: 0.4005 - val_accuracy: 0.8168\n",
            "Epoch 13/30\n",
            "657/657 - 1s - loss: 0.3503 - accuracy: 0.8403 - val_loss: 0.4018 - val_accuracy: 0.8143\n",
            "Epoch 14/30\n",
            "657/657 - 1s - loss: 0.3483 - accuracy: 0.8414 - val_loss: 0.4007 - val_accuracy: 0.8156\n",
            "Epoch 15/30\n",
            "657/657 - 1s - loss: 0.3476 - accuracy: 0.8397 - val_loss: 0.4057 - val_accuracy: 0.8142\n",
            "Epoch 16/30\n",
            "657/657 - 1s - loss: 0.3455 - accuracy: 0.8415 - val_loss: 0.4011 - val_accuracy: 0.8152\n",
            "Epoch 17/30\n",
            "657/657 - 1s - loss: 0.3429 - accuracy: 0.8444 - val_loss: 0.4021 - val_accuracy: 0.8189\n",
            "Epoch 18/30\n",
            "657/657 - 1s - loss: 0.3412 - accuracy: 0.8429 - val_loss: 0.3971 - val_accuracy: 0.8178\n",
            "Epoch 19/30\n",
            "657/657 - 1s - loss: 0.3387 - accuracy: 0.8437 - val_loss: 0.4174 - val_accuracy: 0.8047\n",
            "Epoch 20/30\n",
            "657/657 - 1s - loss: 0.3346 - accuracy: 0.8480 - val_loss: 0.4010 - val_accuracy: 0.8203\n",
            "Epoch 21/30\n",
            "657/657 - 1s - loss: 0.3317 - accuracy: 0.8481 - val_loss: 0.3970 - val_accuracy: 0.8205\n",
            "Epoch 22/30\n",
            "657/657 - 1s - loss: 0.3275 - accuracy: 0.8503 - val_loss: 0.4015 - val_accuracy: 0.8205\n",
            "Epoch 23/30\n",
            "657/657 - 1s - loss: 0.3237 - accuracy: 0.8535 - val_loss: 0.4008 - val_accuracy: 0.8213\n",
            "Epoch 24/30\n",
            "657/657 - 1s - loss: 0.3200 - accuracy: 0.8544 - val_loss: 0.4001 - val_accuracy: 0.8208\n",
            "Epoch 25/30\n",
            "657/657 - 1s - loss: 0.3173 - accuracy: 0.8567 - val_loss: 0.4005 - val_accuracy: 0.8215\n",
            "Epoch 26/30\n",
            "657/657 - 1s - loss: 0.3134 - accuracy: 0.8593 - val_loss: 0.4030 - val_accuracy: 0.8203\n",
            "Epoch 27/30\n",
            "657/657 - 1s - loss: 0.3113 - accuracy: 0.8607 - val_loss: 0.4075 - val_accuracy: 0.8196\n",
            "Epoch 28/30\n",
            "657/657 - 1s - loss: 0.3085 - accuracy: 0.8603 - val_loss: 0.4085 - val_accuracy: 0.8201\n",
            "Epoch 29/30\n",
            "657/657 - 1s - loss: 0.3051 - accuracy: 0.8629 - val_loss: 0.4085 - val_accuracy: 0.8184\n",
            "Epoch 30/30\n",
            "657/657 - 1s - loss: 0.3029 - accuracy: 0.8653 - val_loss: 0.4098 - val_accuracy: 0.8196\n"
          ]
        }
      ],
      "source": [
        "num_epochs = 30\n",
        "history = model.fit(training_padded, training_labels, epochs=num_epochs, validation_data=(testing_padded, testing_labels), verbose=2)"
      ]
    },
    {
      "cell_type": "code",
      "execution_count": 13,
      "metadata": {
        "id": "2HYfBKXjkmU8"
      },
      "outputs": [
        {
          "data": {
            "image/png": "[encoded data removed]",
            "text/plain": [
              "<Figure size 432x288 with 1 Axes>"
            ]
          },
          "metadata": {
            "needs_background": "light"
          },
          "output_type": "display_data"
        },
        {
          "data": {
            "image/png": "[encoded data removed]",
            "text/plain": [
              "<Figure size 432x288 with 1 Axes>"
            ]
          },
          "metadata": {
            "needs_background": "light"
          },
          "output_type": "display_data"
        }
      ],
      "source": [
        "plot_graphs(history, \"accuracy\")\n",
        "plot_graphs(history, \"loss\")"
      ]
    },
    {
      "cell_type": "code",
      "execution_count": null,
      "metadata": {},
      "outputs": [],
      "source": []
    }
  ],
  "metadata": {
    "accelerator": "GPU",
    "colab": {
      "collapsed_sections": [],
      "include_colab_link": true,
      "name": "C3_W2_Lab_2_sarcasm_classifier.ipynb",
      "provenance": [],
      "toc_visible": true
    },
    "kernelspec": {
      "display_name": "Python 3",
      "name": "python3"
    },
    "language_info": {
      "codemirror_mode": {
        "name": "ipython",
        "version": 3
      },
      "file_extension": ".py",
      "mimetype": "text/x-python",
      "name": "python",
      "nbconvert_exporter": "python",
      "pygments_lexer": "ipython3",
      "version": "3.9.2"
    }
  },
  "nbformat": 4,
  "nbformat_minor": 0
}
