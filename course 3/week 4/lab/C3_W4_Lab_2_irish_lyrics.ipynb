{
  "cells": [
    {
      "cell_type": "markdown",
      "metadata": {
        "colab_type": "text",
        "id": "view-in-github"
      },
      "source": [
        "<a href=\"https://colab.research.google.com/github/https-deeplearning-ai/tensorflow-1-public/blob/adding_C3/C3/W4/ungraded_labs/C3_W4_Lab_2_irish_lyrics.ipynb\" target=\"_parent\"><img src=\"https://colab.research.google.com/assets/colab-badge.svg\" alt=\"Open In Colab\"/></a>"
      ]
    },
    {
      "cell_type": "code",
      "execution_count": null,
      "metadata": {
        "id": "bjcGo-3lhyBw"
      },
      "outputs": [],
      "source": [
        "#!pip install tensorflow==2.5.0"
      ]
    },
    {
      "cell_type": "code",
      "execution_count": 1,
      "metadata": {
        "id": "BOwsuGQQY9OL"
      },
      "outputs": [],
      "source": [
        "import tensorflow as tf\n",
        "\n",
        "from tensorflow.keras.preprocessing.sequence import pad_sequences\n",
        "from tensorflow.keras.layers import Embedding, LSTM, Dense, Bidirectional\n",
        "from tensorflow.keras.preprocessing.text import Tokenizer\n",
        "from tensorflow.keras.models import Sequential\n",
        "from tensorflow.keras.optimizers import Adam\n",
        "import numpy as np "
      ]
    },
    {
      "cell_type": "code",
      "execution_count": null,
      "metadata": {
        "id": "pylt5qZYsWPh"
      },
      "outputs": [],
      "source": [
        "# irish-lyrics-eof.txt\n",
        "!gdown --id 15UqmiIm0xwh9mt0IYq2z3jHaauxQSTQT"
      ]
    },
    {
      "cell_type": "code",
      "execution_count": 16,
      "metadata": {
        "id": "PRnDnCW-Z7qv"
      },
      "outputs": [
        {
          "name": "stdout",
          "output_type": "stream",
          "text": [
            "['the', 'and', 'i', 'to', 'a', 'of', 'my', 'in', 'me', 'for']\n",
            "2690\n"
          ]
        }
      ],
      "source": [
        "tokenizer = Tokenizer()\n",
        "\n",
        "data = open('./irish-lyrics-eof.txt').read()\n",
        "\n",
        "corpus = data.lower().split(\"\\n\")\n",
        "\n",
        "tokenizer.fit_on_texts(corpus)\n",
        "total_words = len(tokenizer.word_index) + 1\n",
        "\n",
        "print([*tokenizer.word_index][:10])\n",
        "print(total_words)\n"
      ]
    },
    {
      "cell_type": "code",
      "execution_count": 4,
      "metadata": {
        "id": "soPGVheskaQP"
      },
      "outputs": [],
      "source": [
        "input_sequences = []\n",
        "for line in corpus:\n",
        "\ttoken_list = tokenizer.texts_to_sequences([line])[0]\n",
        "\tfor i in range(1, len(token_list)):\n",
        "\t\tn_gram_sequence = token_list[:i+1]\n",
        "\t\tinput_sequences.append(n_gram_sequence)\n",
        "\n",
        "# pad sequences \n",
        "max_sequence_len = max([len(x) for x in input_sequences])\n",
        "input_sequences = np.array(pad_sequences(input_sequences, maxlen=max_sequence_len, padding='pre'))\n",
        "\n",
        "# create predictors and label\n",
        "xs, labels = input_sequences[:,:-1],input_sequences[:,-1]\n",
        "\n",
        "ys = tf.keras.utils.to_categorical(labels, num_classes=total_words)"
      ]
    },
    {
      "cell_type": "code",
      "execution_count": 5,
      "metadata": {
        "id": "pJtwVB2NbOAP"
      },
      "outputs": [
        {
          "name": "stdout",
          "output_type": "stream",
          "text": [
            "8\n",
            "1\n",
            "71\n",
            "6\n",
            "713\n",
            "39\n",
            "1790\n",
            "1791\n"
          ]
        }
      ],
      "source": [
        "print(tokenizer.word_index['in'])\n",
        "print(tokenizer.word_index['the'])\n",
        "print(tokenizer.word_index['town'])\n",
        "print(tokenizer.word_index['of'])\n",
        "print(tokenizer.word_index['athy'])\n",
        "print(tokenizer.word_index['one'])\n",
        "print(tokenizer.word_index['jeremy'])\n",
        "print(tokenizer.word_index['lanigan'])"
      ]
    },
    {
      "cell_type": "code",
      "execution_count": 6,
      "metadata": {
        "id": "49Cv68JOakwv"
      },
      "outputs": [
        {
          "name": "stdout",
          "output_type": "stream",
          "text": [
            "[0 0 0 0 0 0 0 0 0 0 0 0 0 0 2]\n"
          ]
        }
      ],
      "source": [
        "print(xs[6])"
      ]
    },
    {
      "cell_type": "code",
      "execution_count": 7,
      "metadata": {
        "id": "iY-jwvfgbEF8"
      },
      "outputs": [
        {
          "name": "stdout",
          "output_type": "stream",
          "text": [
            "[0. 0. 0. ... 0. 0. 0.]\n"
          ]
        }
      ],
      "source": [
        "print(ys[6])"
      ]
    },
    {
      "cell_type": "code",
      "execution_count": 8,
      "metadata": {
        "id": "wtzlUMYadhKt"
      },
      "outputs": [
        {
          "name": "stdout",
          "output_type": "stream",
          "text": [
            "[   0    0    0    0    0    0    0    0    0   51   12   96 1217   48\n",
            "    2]\n",
            "[0. 0. 0. ... 0. 0. 0.]\n"
          ]
        }
      ],
      "source": [
        "print(xs[5])\n",
        "print(ys[5])"
      ]
    },
    {
      "cell_type": "code",
      "execution_count": 19,
      "metadata": {
        "id": "H4myRpB1c4Gg"
      },
      "outputs": [
        {
          "name": "stdout",
          "output_type": "stream",
          "text": [
            "['the', 'and', 'i', 'to', 'a', 'of', 'my', 'in', 'me', 'for', 'you', 'all', 'was', 'she', 'that', 'on', 'with', 'her', 'but', 'as']\n"
          ]
        }
      ],
      "source": [
        "print([*tokenizer.word_index][:20])"
      ]
    },
    {
      "cell_type": "code",
      "execution_count": 10,
      "metadata": {
        "id": "w9vH8Y59ajYL"
      },
      "outputs": [
        {
          "name": "stderr",
          "output_type": "stream",
          "text": [
            "C:\\Users\\oeb\\AppData\\Local\\Programs\\Python\\Python39\\lib\\site-packages\\keras\\optimizer_v2\\optimizer_v2.py:355: UserWarning: The `lr` argument is deprecated, use `learning_rate` instead.\n",
            "  warnings.warn(\n"
          ]
        },
        {
          "name": "stdout",
          "output_type": "stream",
          "text": [
            "Epoch 1/100\n",
            "377/377 [==============================] - 7s 15ms/step - loss: 6.6274 - accuracy: 0.0745\n",
            "Epoch 2/100\n",
            "377/377 [==============================] - 6s 15ms/step - loss: 5.7288 - accuracy: 0.1152\n",
            "Epoch 3/100\n",
            "377/377 [==============================] - 6s 15ms/step - loss: 4.8336 - accuracy: 0.1633\n",
            "Epoch 4/100\n",
            "377/377 [==============================] - 6s 15ms/step - loss: 3.8947 - accuracy: 0.2407\n",
            "Epoch 5/100\n",
            "377/377 [==============================] - 6s 15ms/step - loss: 3.0477 - accuracy: 0.3570\n",
            "Epoch 6/100\n",
            "377/377 [==============================] - 6s 15ms/step - loss: 2.4084 - accuracy: 0.4589\n",
            "Epoch 7/100\n",
            "377/377 [==============================] - 6s 15ms/step - loss: 1.9457 - accuracy: 0.5495\n",
            "Epoch 8/100\n",
            "377/377 [==============================] - 6s 16ms/step - loss: 1.6025 - accuracy: 0.6187\n",
            "Epoch 9/100\n",
            "377/377 [==============================] - 6s 16ms/step - loss: 1.3486 - accuracy: 0.6784\n",
            "Epoch 10/100\n",
            "377/377 [==============================] - 6s 16ms/step - loss: 1.1813 - accuracy: 0.7153\n",
            "Epoch 11/100\n",
            "377/377 [==============================] - 6s 16ms/step - loss: 1.1268 - accuracy: 0.7280\n",
            "Epoch 12/100\n",
            "377/377 [==============================] - 6s 16ms/step - loss: 1.2282 - accuracy: 0.6980\n",
            "Epoch 13/100\n",
            "377/377 [==============================] - 6s 16ms/step - loss: 1.1943 - accuracy: 0.6965\n",
            "Epoch 14/100\n",
            "377/377 [==============================] - 6s 16ms/step - loss: 1.1709 - accuracy: 0.7006\n",
            "Epoch 15/100\n",
            "377/377 [==============================] - 6s 16ms/step - loss: 1.0696 - accuracy: 0.7279\n",
            "Epoch 16/100\n",
            "377/377 [==============================] - 6s 16ms/step - loss: 0.9754 - accuracy: 0.7528\n",
            "Epoch 17/100\n",
            "377/377 [==============================] - 6s 16ms/step - loss: 0.9372 - accuracy: 0.7625\n",
            "Epoch 18/100\n",
            "377/377 [==============================] - 6s 16ms/step - loss: 0.9209 - accuracy: 0.7691\n",
            "Epoch 19/100\n",
            "377/377 [==============================] - 6s 15ms/step - loss: 0.9904 - accuracy: 0.7487\n",
            "Epoch 20/100\n",
            "377/377 [==============================] - 6s 16ms/step - loss: 1.1573 - accuracy: 0.7058\n",
            "Epoch 21/100\n",
            "377/377 [==============================] - 6s 16ms/step - loss: 1.1293 - accuracy: 0.7093\n",
            "Epoch 22/100\n",
            "377/377 [==============================] - 6s 16ms/step - loss: 1.0238 - accuracy: 0.7355\n",
            "Epoch 23/100\n",
            "377/377 [==============================] - 6s 16ms/step - loss: 0.9609 - accuracy: 0.7468\n",
            "Epoch 24/100\n",
            "377/377 [==============================] - 6s 16ms/step - loss: 0.8951 - accuracy: 0.7676\n",
            "Epoch 25/100\n",
            "377/377 [==============================] - 6s 15ms/step - loss: 0.9034 - accuracy: 0.7643\n",
            "Epoch 26/100\n",
            "377/377 [==============================] - 6s 16ms/step - loss: 0.9450 - accuracy: 0.7565\n",
            "Epoch 27/100\n",
            "377/377 [==============================] - 6s 16ms/step - loss: 0.9214 - accuracy: 0.7585\n",
            "Epoch 28/100\n",
            "377/377 [==============================] - 6s 16ms/step - loss: 0.8924 - accuracy: 0.7672\n",
            "Epoch 29/100\n",
            "377/377 [==============================] - 6s 16ms/step - loss: 0.8902 - accuracy: 0.7657\n",
            "Epoch 30/100\n",
            "377/377 [==============================] - 6s 16ms/step - loss: 0.9597 - accuracy: 0.7488\n",
            "Epoch 31/100\n",
            "377/377 [==============================] - 6s 16ms/step - loss: 1.1063 - accuracy: 0.7169\n",
            "Epoch 32/100\n",
            "377/377 [==============================] - 6s 16ms/step - loss: 1.0821 - accuracy: 0.7194\n",
            "Epoch 33/100\n",
            "377/377 [==============================] - 6s 15ms/step - loss: 0.9901 - accuracy: 0.7407\n",
            "Epoch 34/100\n",
            "377/377 [==============================] - 6s 16ms/step - loss: 0.9536 - accuracy: 0.7554\n",
            "Epoch 35/100\n",
            "377/377 [==============================] - 6s 16ms/step - loss: 0.8987 - accuracy: 0.7668\n",
            "Epoch 36/100\n",
            "377/377 [==============================] - 6s 16ms/step - loss: 0.8864 - accuracy: 0.7688\n",
            "Epoch 37/100\n",
            "377/377 [==============================] - 6s 15ms/step - loss: 0.8823 - accuracy: 0.7721\n",
            "Epoch 38/100\n",
            "377/377 [==============================] - 6s 16ms/step - loss: 0.8961 - accuracy: 0.7668\n",
            "Epoch 39/100\n",
            "377/377 [==============================] - 6s 16ms/step - loss: 0.9476 - accuracy: 0.7536\n",
            "Epoch 40/100\n",
            "377/377 [==============================] - 6s 16ms/step - loss: 1.0573 - accuracy: 0.7266\n",
            "Epoch 41/100\n",
            "377/377 [==============================] - 6s 16ms/step - loss: 1.1032 - accuracy: 0.7121\n",
            "Epoch 42/100\n",
            "377/377 [==============================] - 6s 16ms/step - loss: 0.9971 - accuracy: 0.7383\n",
            "Epoch 43/100\n",
            "377/377 [==============================] - 6s 16ms/step - loss: 0.9637 - accuracy: 0.7483\n",
            "Epoch 44/100\n",
            "377/377 [==============================] - 6s 16ms/step - loss: 0.9452 - accuracy: 0.7534\n",
            "Epoch 45/100\n",
            "377/377 [==============================] - 6s 16ms/step - loss: 0.9009 - accuracy: 0.7642\n",
            "Epoch 46/100\n",
            "377/377 [==============================] - 6s 16ms/step - loss: 0.8712 - accuracy: 0.7761\n",
            "Epoch 47/100\n",
            "377/377 [==============================] - 6s 15ms/step - loss: 0.8880 - accuracy: 0.7643\n",
            "Epoch 48/100\n",
            "377/377 [==============================] - 6s 16ms/step - loss: 0.8983 - accuracy: 0.7643\n",
            "Epoch 49/100\n",
            "377/377 [==============================] - 6s 16ms/step - loss: 0.8760 - accuracy: 0.7736\n",
            "Epoch 50/100\n",
            "377/377 [==============================] - 6s 16ms/step - loss: 0.8855 - accuracy: 0.7698\n",
            "Epoch 51/100\n",
            "377/377 [==============================] - 6s 16ms/step - loss: 0.9022 - accuracy: 0.7643\n",
            "Epoch 52/100\n",
            "377/377 [==============================] - 6s 16ms/step - loss: 1.0186 - accuracy: 0.7432\n",
            "Epoch 53/100\n",
            "377/377 [==============================] - 6s 16ms/step - loss: 1.1066 - accuracy: 0.7179\n",
            "Epoch 54/100\n",
            "377/377 [==============================] - 6s 16ms/step - loss: 1.0636 - accuracy: 0.7250\n",
            "Epoch 55/100\n",
            "377/377 [==============================] - 6s 16ms/step - loss: 0.9458 - accuracy: 0.7558\n",
            "Epoch 56/100\n",
            "377/377 [==============================] - 6s 16ms/step - loss: 0.8781 - accuracy: 0.7706\n",
            "Epoch 57/100\n",
            "377/377 [==============================] - 6s 16ms/step - loss: 0.8736 - accuracy: 0.7711\n",
            "Epoch 58/100\n",
            "377/377 [==============================] - 6s 15ms/step - loss: 0.8566 - accuracy: 0.7765\n",
            "Epoch 59/100\n",
            "377/377 [==============================] - 6s 15ms/step - loss: 0.8834 - accuracy: 0.7667\n",
            "Epoch 60/100\n",
            "377/377 [==============================] - 6s 16ms/step - loss: 0.8940 - accuracy: 0.7646\n",
            "Epoch 61/100\n",
            "377/377 [==============================] - 6s 15ms/step - loss: 0.9030 - accuracy: 0.7638\n",
            "Epoch 62/100\n",
            "377/377 [==============================] - 6s 16ms/step - loss: 0.9238 - accuracy: 0.7617\n",
            "Epoch 63/100\n",
            "377/377 [==============================] - 6s 16ms/step - loss: 0.8934 - accuracy: 0.7696\n",
            "Epoch 64/100\n",
            "377/377 [==============================] - 6s 15ms/step - loss: 0.9341 - accuracy: 0.7571\n",
            "Epoch 65/100\n",
            "377/377 [==============================] - 6s 15ms/step - loss: 0.9479 - accuracy: 0.7554\n",
            "Epoch 66/100\n",
            "377/377 [==============================] - 6s 16ms/step - loss: 1.1844 - accuracy: 0.7201\n",
            "Epoch 67/100\n",
            "377/377 [==============================] - 6s 16ms/step - loss: 1.3217 - accuracy: 0.6828\n",
            "Epoch 68/100\n",
            "377/377 [==============================] - 6s 16ms/step - loss: 1.2036 - accuracy: 0.7006\n",
            "Epoch 69/100\n",
            "377/377 [==============================] - 6s 15ms/step - loss: 1.0263 - accuracy: 0.7426\n",
            "Epoch 70/100\n",
            "377/377 [==============================] - 6s 15ms/step - loss: 0.9174 - accuracy: 0.7654\n",
            "Epoch 71/100\n",
            "377/377 [==============================] - 6s 16ms/step - loss: 0.8694 - accuracy: 0.7829\n",
            "Epoch 72/100\n",
            "377/377 [==============================] - 6s 16ms/step - loss: 0.9007 - accuracy: 0.7729\n",
            "Epoch 73/100\n",
            "377/377 [==============================] - 6s 15ms/step - loss: 0.9825 - accuracy: 0.7529\n",
            "Epoch 74/100\n",
            "377/377 [==============================] - 6s 16ms/step - loss: 1.0160 - accuracy: 0.7403\n",
            "Epoch 75/100\n",
            "377/377 [==============================] - 6s 16ms/step - loss: 0.9647 - accuracy: 0.7543\n",
            "Epoch 76/100\n",
            "377/377 [==============================] - 6s 16ms/step - loss: 0.9331 - accuracy: 0.7597\n",
            "Epoch 77/100\n",
            "377/377 [==============================] - 6s 16ms/step - loss: 0.9091 - accuracy: 0.7694\n",
            "Epoch 78/100\n",
            "377/377 [==============================] - 6s 15ms/step - loss: 0.9165 - accuracy: 0.7660\n",
            "Epoch 79/100\n",
            "377/377 [==============================] - 6s 15ms/step - loss: 0.9016 - accuracy: 0.7687\n",
            "Epoch 80/100\n",
            "377/377 [==============================] - 6s 15ms/step - loss: 0.9643 - accuracy: 0.7566\n",
            "Epoch 81/100\n",
            "377/377 [==============================] - 6s 15ms/step - loss: 0.9143 - accuracy: 0.7674\n",
            "Epoch 82/100\n",
            "377/377 [==============================] - 6s 15ms/step - loss: 0.9132 - accuracy: 0.7672\n",
            "Epoch 83/100\n",
            "377/377 [==============================] - 6s 15ms/step - loss: 0.9155 - accuracy: 0.7696\n",
            "Epoch 84/100\n",
            "377/377 [==============================] - 6s 16ms/step - loss: 0.9274 - accuracy: 0.7647\n",
            "Epoch 85/100\n",
            "377/377 [==============================] - 6s 15ms/step - loss: 0.9420 - accuracy: 0.7601\n",
            "Epoch 86/100\n",
            "377/377 [==============================] - 6s 16ms/step - loss: 0.9250 - accuracy: 0.7657\n",
            "Epoch 87/100\n",
            "377/377 [==============================] - 6s 16ms/step - loss: 0.9486 - accuracy: 0.7584\n",
            "Epoch 88/100\n",
            "377/377 [==============================] - 6s 16ms/step - loss: 0.9396 - accuracy: 0.7614\n",
            "Epoch 89/100\n",
            "377/377 [==============================] - 6s 16ms/step - loss: 0.9236 - accuracy: 0.7654\n",
            "Epoch 90/100\n",
            "377/377 [==============================] - 6s 16ms/step - loss: 0.9201 - accuracy: 0.7674\n",
            "Epoch 91/100\n",
            "377/377 [==============================] - 6s 16ms/step - loss: 0.8835 - accuracy: 0.7745\n",
            "Epoch 92/100\n",
            "377/377 [==============================] - 6s 16ms/step - loss: 0.8755 - accuracy: 0.7748\n",
            "Epoch 93/100\n",
            "377/377 [==============================] - 6s 16ms/step - loss: 0.8375 - accuracy: 0.7815\n",
            "Epoch 94/100\n",
            "377/377 [==============================] - 6s 16ms/step - loss: 0.8236 - accuracy: 0.7885\n",
            "Epoch 95/100\n",
            "377/377 [==============================] - 6s 15ms/step - loss: 0.8392 - accuracy: 0.7881\n",
            "Epoch 96/100\n",
            "377/377 [==============================] - 6s 15ms/step - loss: 0.8481 - accuracy: 0.7830\n",
            "Epoch 97/100\n",
            "377/377 [==============================] - 6s 15ms/step - loss: 0.9120 - accuracy: 0.7740\n",
            "Epoch 98/100\n",
            "377/377 [==============================] - 6s 16ms/step - loss: 1.0748 - accuracy: 0.7346\n",
            "Epoch 99/100\n",
            "377/377 [==============================] - 6s 17ms/step - loss: 1.0643 - accuracy: 0.7339\n",
            "Epoch 100/100\n",
            "377/377 [==============================] - 6s 16ms/step - loss: 0.9892 - accuracy: 0.7490\n",
            "<keras.engine.sequential.Sequential object at 0x000001DF748013D0>\n"
          ]
        }
      ],
      "source": [
        "model = Sequential()\n",
        "model.add(Embedding(total_words, 100, input_length=max_sequence_len-1))\n",
        "model.add(Bidirectional(LSTM(150)))\n",
        "model.add(Dense(total_words, activation='softmax'))\n",
        "adam = Adam(lr=0.01)\n",
        "model.compile(loss='categorical_crossentropy', optimizer=adam, metrics=['accuracy'])\n",
        "#earlystop = EarlyStopping(monitor='val_loss', min_delta=0, patience=5, verbose=0, mode='auto')\n",
        "history = model.fit(xs, ys, epochs=100, verbose=1)\n",
        "#print model.summary()\n",
        "print(model)\n"
      ]
    },
    {
      "cell_type": "code",
      "execution_count": 11,
      "metadata": {
        "id": "3YXGelKThoTT"
      },
      "outputs": [],
      "source": [
        "import matplotlib.pyplot as plt\n",
        "\n",
        "\n",
        "def plot_graphs(history, string):\n",
        "  plt.plot(history.history[string])\n",
        "  plt.xlabel(\"Epochs\")\n",
        "  plt.ylabel(string)\n",
        "  plt.show()"
      ]
    },
    {
      "cell_type": "code",
      "execution_count": 20,
      "metadata": {
        "id": "poeprYK8h-c7"
      },
      "outputs": [
        {
          "data": {
            "image/png": "[encoded data removed]",
            "text/plain": [
              "<Figure size 432x288 with 1 Axes>"
            ]
          },
          "metadata": {
            "needs_background": "light"
          },
          "output_type": "display_data"
        }
      ],
      "source": [
        "plot_graphs(history, 'accuracy')\n"
      ]
    },
    {
      "cell_type": "code",
      "execution_count": 22,
      "metadata": {
        "id": "6Vc6PHgxa6Hm"
      },
      "outputs": [
        {
          "name": "stdout",
          "output_type": "stream",
          "text": [
            "I've got a bad feeling about this world there is sentence boy in the fervor of night without de diddle day and dismay in your drums and guns and drums and guns is bare over dawn boldly with gone and dismay standing that not be my croppy says love can carry two years will love him be be found gallant irishmen to greet you darling to another with another here free darling first were forth in strife in bondage and water polkas and heavy odds he bore a fond farewell my soul over says beguiled up of sport and silver bells are laid her writin when cry\n"
          ]
        }
      ],
      "source": [
        "seed_text = \"I've got a bad feeling about this\"\n",
        "next_words = 100\n",
        "  \n",
        "for _ in range(next_words):\n",
        "\ttoken_list = tokenizer.texts_to_sequences([seed_text])[0]\n",
        "\ttoken_list = pad_sequences([token_list], maxlen=max_sequence_len-1, padding='pre')\n",
        "\tporbs = model.predict(token_list)\n",
        "\tpredicted = np.argmax(porbs, axis=-1)[-1]\n",
        "\toutput_word = \"\"\n",
        "\tfor word, index in tokenizer.word_index.items():\n",
        "\t\tif index == predicted:\n",
        "\t\t\toutput_word = word\n",
        "\t\t\tbreak\n",
        "\tseed_text += \" \" + output_word\n",
        "print(seed_text)"
      ]
    },
    {
      "cell_type": "code",
      "execution_count": null,
      "metadata": {},
      "outputs": [],
      "source": []
    }
  ],
  "metadata": {
    "accelerator": "GPU",
    "colab": {
      "collapsed_sections": [],
      "include_colab_link": true,
      "name": "C3_W4_Lab_2_irish_lyrics.ipynb",
      "provenance": [],
      "toc_visible": true
    },
    "kernelspec": {
      "display_name": "Python 3",
      "name": "python3"
    },
    "language_info": {
      "codemirror_mode": {
        "name": "ipython",
        "version": 3
      },
      "file_extension": ".py",
      "mimetype": "text/x-python",
      "name": "python",
      "nbconvert_exporter": "python",
      "pygments_lexer": "ipython3",
      "version": "3.9.2"
    }
  },
  "nbformat": 4,
  "nbformat_minor": 0
}
